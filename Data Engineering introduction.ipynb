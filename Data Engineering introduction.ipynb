{
 "cells": [
  {
   "cell_type": "markdown",
   "id": "527a6a37",
   "metadata": {},
   "source": [
    "# Introduction to Data Engineering\n",
    "\n",
    "Firat YASAR\n",
    "\n",
    "Data & Cloud Engineer @ SFEIR"
   ]
  },
  {
   "cell_type": "markdown",
   "id": "96b39e11",
   "metadata": {},
   "source": [
    "# 1. Data Engineering\n",
    "\n",
    "What is Data Engineering?\n",
    "\n",
    "\n",
    "What is ETL?\n",
    "\n",
    "- Extract\n",
    "- Transform\n",
    "- Load\n",
    "\n",
    "There are lots of platforms, softwares, tools used in Data Engineering.\n",
    "\n",
    "- Data Warehouse\n",
    "- Data Lakehouse\n",
    "\n",
    "API (application programming interface)"
   ]
  },
  {
   "cell_type": "code",
   "execution_count": 1,
   "id": "64323e8d",
   "metadata": {},
   "outputs": [],
   "source": [
    "# Import the necessary libraries\n",
    "\n",
    "import pandas as pd\n",
    "import matplotlib.pyplot as plt\n",
    "import string\n",
    "from collections import Counter\n",
    "import requests\n",
    "from wordcloud import WordCloud"
   ]
  },
  {
   "cell_type": "markdown",
   "id": "c8f79255",
   "metadata": {},
   "source": [
    "## 1.1 Extract"
   ]
  },
  {
   "cell_type": "markdown",
   "id": "97e87bb9",
   "metadata": {},
   "source": [
    "Get the textual data\n",
    "\n",
    "Note that we use ``requests`` library to extract data from a website (from wikipedia).\n",
    "\n",
    "We define a function ``wikipedia_page`` which returns the page of a title."
   ]
  },
  {
   "cell_type": "code",
   "execution_count": 2,
   "id": "7c642883",
   "metadata": {},
   "outputs": [],
   "source": [
    "def wikipedia_page(title):\n",
    "    '''\n",
    "    This function returns the raw text of a wikipedia page \n",
    "    given a wikipedia page title\n",
    "    '''\n",
    "    params = { \n",
    "        'action': 'query', \n",
    "        'format': 'json', # request json formatted content\n",
    "        'titles': title, # title of the wikipedia page\n",
    "        'prop': 'extracts', \n",
    "        'explaintext': True\n",
    "    }\n",
    "    # send a request to the wikipedia api \n",
    "    response = requests.get(\n",
    "         'https://en.wikipedia.org/w/api.php',\n",
    "         params= params\n",
    "     ).json()\n",
    "\n",
    "    # Parse the result\n",
    "    page = next(iter(response['query']['pages'].values()))\n",
    "    # return the page content \n",
    "    if 'extract' in page.keys():\n",
    "        return page['extract']\n",
    "    else:\n",
    "        return \"Page not found\""
   ]
  },
  {
   "cell_type": "markdown",
   "id": "909815ba",
   "metadata": {},
   "source": [
    "For example, let's fetch the article \"France\" from Wikipedia. To minimize space usage, I will only take the first 250 characters of the text."
   ]
  },
  {
   "cell_type": "code",
   "execution_count": 3,
   "id": "11d2b543",
   "metadata": {
    "scrolled": true
   },
   "outputs": [
    {
     "name": "stdout",
     "output_type": "stream",
     "text": [
      "Here is the beginning of the text (limited to 250 caracters):\n",
      "\n",
      "France (French: [fʁɑ̃s] ), officially the French Republic (French: République française [ʁepyblik fʁɑ̃sɛz]), is a country located primarily in Western Europe. It also includes overseas regions and territories in the Americas and the Atlantic, Pacific\n"
     ]
    }
   ],
   "source": [
    "france = wikipedia_page('France')\n",
    "print (\"Here is the beginning of the text (limited to 250 caracters):\\n\")\n",
    "print(france[:250]) "
   ]
  },
  {
   "cell_type": "markdown",
   "id": "6a188a6c",
   "metadata": {},
   "source": [
    "## 1.2 Transform\n",
    "\n",
    "In this section, we will transform the text and extract the 20 most common words in it. Let us first see how it will look like using a wordcloud:"
   ]
  },
  {
   "cell_type": "code",
   "execution_count": 4,
   "id": "8b59e486",
   "metadata": {},
   "outputs": [],
   "source": [
    "# Define the list of words you want to remove from the text\n",
    "stopwords = [\n",
    "    'i', 'me', 'my', 'myself', 'we', 'our', 'ours', 'ourselves', 'you', 'your',\n",
    "    'yours', 'yourself', 'yourselves', 'he', 'him', 'his', 'himself', 'she',\n",
    "    'her', 'hers', 'herself', 'it', 'its', 'itself', 'they', 'them', 'their',\n",
    "    'theirs', 'themselves', 'what', 'which', 'who', 'whom', 'this', 'that',\n",
    "    'these', 'those', 'many', 'am', 'is', 'are', 'was', 'were', 'be', 'been', 'being',\n",
    "    'have', 'has', 'had', 'having', 'do', 'does', 'did', 'doing', 'a', 'an',\n",
    "    'the', 'and', 'but', 'if', 'or', 'because', 'as', 'until', 'while', 'of',\n",
    "    'at', 'by', 'for', 'with', 'about', 'against', 'between', 'into',\n",
    "    'through', 'during', 'also', 'before', 'after', 'above', 'below', 'to', 'from',\n",
    "    'up', 'down', 'in', 'out', 'on', 'off', 'over', 'under', 'again',\n",
    "    'further', 'then', 'once', 'here', 'there', 'when', 'where', 'why', 'how',\n",
    "    'all', 'any', 'both', 'each', 'few', 'more', 'since', 'most', 'other', 'some',\n",
    "    'such', 'no', 'nor', 'not', 'only', 'own', 'same', 'so', 'than', 'too',\n",
    "    'very', 'largest', 'smallest', 'can', 'will', 'just', 'don', 'should', 'now', 'first', 'second', 'one', 'two', 'among'\n",
    "]"
   ]
  },
  {
   "cell_type": "code",
   "execution_count": 5,
   "id": "06cbc080",
   "metadata": {},
   "outputs": [],
   "source": [
    "# Instantiate a wordcloud\n",
    "wordcloud = WordCloud(random_state=8,\n",
    "                      normalize_plurals=True,\n",
    "                      width=600,\n",
    "                      height=300,\n",
    "                      max_words=300,\n",
    "                      stopwords=stopwords).generate(france.lower()) # we lowercase the text to avoid having to deal with uppercase and capitalized words"
   ]
  },
  {
   "cell_type": "code",
   "execution_count": 6,
   "id": "28f17536",
   "metadata": {
    "scrolled": true
   },
   "outputs": [
    {
     "data": {
      "image/png": "[encoded data removed]",
      "text/plain": [
       "<Figure size 432x288 with 1 Axes>"
      ]
     },
     "metadata": {
      "needs_background": "light"
     },
     "output_type": "display_data"
    }
   ],
   "source": [
    "# Display the generated Word Cloud\n",
    "plt.imshow(wordcloud)\n",
    "plt.axis(\"off\")\n",
    "plt.show()"
   ]
  },
  {
   "cell_type": "markdown",
   "id": "f619c29a",
   "metadata": {},
   "source": [
    "Now we will compute the frequency of each word and get the most common 20 words in the text:"
   ]
  },
  {
   "cell_type": "code",
   "execution_count": 7,
   "id": "3b50fe22",
   "metadata": {},
   "outputs": [
    {
     "data": {
      "text/plain": [
       "[('the', 1600),\n",
       " ('of', 766),\n",
       " ('and', 712),\n",
       " ('in', 593),\n",
       " ('to', 272),\n",
       " ('a', 233),\n",
       " ('french', 206),\n",
       " ('france', 193),\n",
       " ('is', 177),\n",
       " ('as', 162),\n",
       " ('by', 159),\n",
       " ('was', 145),\n",
       " ('with', 106),\n",
       " ('for', 104),\n",
       " ('are', 90),\n",
       " ('from', 88),\n",
       " ('which', 85),\n",
       " ('most', 81),\n",
       " ('it', 77),\n",
       " ('its', 68)]"
      ]
     },
     "execution_count": 7,
     "metadata": {},
     "output_type": "execute_result"
    }
   ],
   "source": [
    "# We transform the text into a list of words by splitting over the space character ' '\n",
    "france_word_list = france.lower().split(' ')\n",
    "\n",
    "# and count the words\n",
    "common_france = Counter(france_word_list).most_common(20)\n",
    "common_france"
   ]
  },
  {
   "cell_type": "markdown",
   "id": "2e652ac5",
   "metadata": {},
   "source": [
    "Not a useful list. Let us do it again by removing the stopwords and punctuation:"
   ]
  },
  {
   "cell_type": "code",
   "execution_count": 8,
   "id": "bc842c1c",
   "metadata": {},
   "outputs": [],
   "source": [
    "# Remove punctuation \n",
    "punctuation = set(string.punctuation)\n",
    "france = ''.join(w for w in france if w not in punctuation)\n",
    "\n",
    "# We transform the text into a list of words by splitting over the space character ' '\n",
    "france_word_list = france.lower().split(' ')\n",
    "\n",
    "# Remove the stopwords from france_word_list\n",
    "france_without_stopwords = [word for word in france_word_list if word not in stopwords]"
   ]
  },
  {
   "cell_type": "code",
   "execution_count": 9,
   "id": "5bb64a1e",
   "metadata": {
    "scrolled": false
   },
   "outputs": [
    {
     "data": {
      "text/plain": [
       "[('france', 251),\n",
       " ('french', 225),\n",
       " ('world', 70),\n",
       " ('de', 68),\n",
       " ('century', 62),\n",
       " ('million', 52),\n",
       " ('europe', 47),\n",
       " ('national', 47),\n",
       " ('paris', 45),\n",
       " ('european', 43),\n",
       " ('law', 37),\n",
       " ('war', 35),\n",
       " ('government', 33),\n",
       " ('republic', 28),\n",
       " ('economic', 28),\n",
       " ('country', 27),\n",
       " ('empire', 27),\n",
       " ('major', 26),\n",
       " ('state', 25),\n",
       " ('louis', 25)]"
      ]
     },
     "execution_count": 9,
     "metadata": {},
     "output_type": "execute_result"
    }
   ],
   "source": [
    "common_france = Counter(france_without_stopwords).most_common(20)\n",
    "common_france"
   ]
  },
  {
   "cell_type": "markdown",
   "id": "b59b532a",
   "metadata": {},
   "source": [
    "## 1.3 Load\n",
    "\n",
    "Let us create an empty dataframe.\n",
    "\n",
    "It will have 1 + 20 columns:\n",
    "- title = the title of the article\n",
    "- word_i = i_th most common words in the article"
   ]
  },
  {
   "cell_type": "code",
   "execution_count": 10,
   "id": "662121d6",
   "metadata": {
    "scrolled": true
   },
   "outputs": [
    {
     "data": {
      "text/html": [
       "<div>\n",
       "<style scoped>\n",
       "    .dataframe tbody tr th:only-of-type {\n",
       "        vertical-align: middle;\n",
       "    }\n",
       "\n",
       "    .dataframe tbody tr th {\n",
       "        vertical-align: top;\n",
       "    }\n",
       "\n",
       "    .dataframe thead th {\n",
       "        text-align: right;\n",
       "    }\n",
       "</style>\n",
       "<table border=\"1\" class=\"dataframe\">\n",
       "  <thead>\n",
       "    <tr style=\"text-align: right;\">\n",
       "      <th></th>\n",
       "      <th>title</th>\n",
       "      <th>word_1</th>\n",
       "      <th>word_2</th>\n",
       "      <th>word_3</th>\n",
       "      <th>word_4</th>\n",
       "      <th>word_5</th>\n",
       "      <th>word_6</th>\n",
       "      <th>word_7</th>\n",
       "      <th>word_8</th>\n",
       "      <th>word_9</th>\n",
       "      <th>...</th>\n",
       "      <th>word_11</th>\n",
       "      <th>word_12</th>\n",
       "      <th>word_13</th>\n",
       "      <th>word_14</th>\n",
       "      <th>word_15</th>\n",
       "      <th>word_16</th>\n",
       "      <th>word_17</th>\n",
       "      <th>word_18</th>\n",
       "      <th>word_19</th>\n",
       "      <th>word_20</th>\n",
       "    </tr>\n",
       "  </thead>\n",
       "  <tbody>\n",
       "  </tbody>\n",
       "</table>\n",
       "<p>0 rows × 21 columns</p>\n",
       "</div>"
      ],
      "text/plain": [
       "Empty DataFrame\n",
       "Columns: [title, word_1, word_2, word_3, word_4, word_5, word_6, word_7, word_8, word_9, word_10, word_11, word_12, word_13, word_14, word_15, word_16, word_17, word_18, word_19, word_20]\n",
       "Index: []\n",
       "\n",
       "[0 rows x 21 columns]"
      ]
     },
     "execution_count": 10,
     "metadata": {},
     "output_type": "execute_result"
    }
   ],
   "source": [
    "# Construct the column names\n",
    "column_names = [f'word_{i+1}' for i in range(20)]\n",
    "\n",
    "# Create an empty list\n",
    "data = []\n",
    "\n",
    "# Create the pandas DataFrame\n",
    "df = pd.DataFrame(\n",
    "    data, columns=['title'] + column_names)\n",
    "\n",
    "# Print dataframe.\n",
    "df"
   ]
  },
  {
   "cell_type": "markdown",
   "id": "9a1b7933",
   "metadata": {},
   "source": [
    "As seen here, we now have an empty dataframe. Let us add rows to it:"
   ]
  },
  {
   "cell_type": "code",
   "execution_count": 11,
   "id": "d5736e32",
   "metadata": {},
   "outputs": [],
   "source": [
    "def add_new (title, common):\n",
    "    df.loc[df.shape[0]] = [title] + [common[index] for index in range(20)]\n",
    "    df.drop_duplicates(subset=['title'],inplace=True) # remove duplicate rows\n",
    "    df.reset_index(drop=True, inplace=True)\n",
    "    return df"
   ]
  },
  {
   "cell_type": "markdown",
   "id": "fb6ba23f",
   "metadata": {},
   "source": [
    "Add the wikipedia article \"France\""
   ]
  },
  {
   "cell_type": "code",
   "execution_count": 12,
   "id": "55024869",
   "metadata": {
    "scrolled": true
   },
   "outputs": [
    {
     "data": {
      "text/html": [
       "<div>\n",
       "<style scoped>\n",
       "    .dataframe tbody tr th:only-of-type {\n",
       "        vertical-align: middle;\n",
       "    }\n",
       "\n",
       "    .dataframe tbody tr th {\n",
       "        vertical-align: top;\n",
       "    }\n",
       "\n",
       "    .dataframe thead th {\n",
       "        text-align: right;\n",
       "    }\n",
       "</style>\n",
       "<table border=\"1\" class=\"dataframe\">\n",
       "  <thead>\n",
       "    <tr style=\"text-align: right;\">\n",
       "      <th></th>\n",
       "      <th>title</th>\n",
       "      <th>word_1</th>\n",
       "      <th>word_2</th>\n",
       "      <th>word_3</th>\n",
       "      <th>word_4</th>\n",
       "      <th>word_5</th>\n",
       "      <th>word_6</th>\n",
       "      <th>word_7</th>\n",
       "      <th>word_8</th>\n",
       "      <th>word_9</th>\n",
       "      <th>...</th>\n",
       "      <th>word_11</th>\n",
       "      <th>word_12</th>\n",
       "      <th>word_13</th>\n",
       "      <th>word_14</th>\n",
       "      <th>word_15</th>\n",
       "      <th>word_16</th>\n",
       "      <th>word_17</th>\n",
       "      <th>word_18</th>\n",
       "      <th>word_19</th>\n",
       "      <th>word_20</th>\n",
       "    </tr>\n",
       "  </thead>\n",
       "  <tbody>\n",
       "    <tr>\n",
       "      <th>0</th>\n",
       "      <td>France</td>\n",
       "      <td>(france, 251)</td>\n",
       "      <td>(french, 225)</td>\n",
       "      <td>(world, 70)</td>\n",
       "      <td>(de, 68)</td>\n",
       "      <td>(century, 62)</td>\n",
       "      <td>(million, 52)</td>\n",
       "      <td>(europe, 47)</td>\n",
       "      <td>(national, 47)</td>\n",
       "      <td>(paris, 45)</td>\n",
       "      <td>...</td>\n",
       "      <td>(law, 37)</td>\n",
       "      <td>(war, 35)</td>\n",
       "      <td>(government, 33)</td>\n",
       "      <td>(republic, 28)</td>\n",
       "      <td>(economic, 28)</td>\n",
       "      <td>(country, 27)</td>\n",
       "      <td>(empire, 27)</td>\n",
       "      <td>(major, 26)</td>\n",
       "      <td>(state, 25)</td>\n",
       "      <td>(louis, 25)</td>\n",
       "    </tr>\n",
       "  </tbody>\n",
       "</table>\n",
       "<p>1 rows × 21 columns</p>\n",
       "</div>"
      ],
      "text/plain": [
       "    title         word_1         word_2       word_3    word_4         word_5  \\\n",
       "0  France  (france, 251)  (french, 225)  (world, 70)  (de, 68)  (century, 62)   \n",
       "\n",
       "          word_6        word_7          word_8       word_9  ...    word_11  \\\n",
       "0  (million, 52)  (europe, 47)  (national, 47)  (paris, 45)  ...  (law, 37)   \n",
       "\n",
       "     word_12           word_13         word_14         word_15        word_16  \\\n",
       "0  (war, 35)  (government, 33)  (republic, 28)  (economic, 28)  (country, 27)   \n",
       "\n",
       "        word_17      word_18      word_19      word_20  \n",
       "0  (empire, 27)  (major, 26)  (state, 25)  (louis, 25)  \n",
       "\n",
       "[1 rows x 21 columns]"
      ]
     },
     "execution_count": 12,
     "metadata": {},
     "output_type": "execute_result"
    }
   ],
   "source": [
    "add_new(\"France\", common_france)"
   ]
  },
  {
   "cell_type": "markdown",
   "id": "618a895f",
   "metadata": {},
   "source": [
    "Save as a csv file:"
   ]
  },
  {
   "cell_type": "code",
   "execution_count": 13,
   "id": "42accd42",
   "metadata": {},
   "outputs": [],
   "source": [
    "df.to_csv('data/result.csv')"
   ]
  },
  {
   "cell_type": "markdown",
   "id": "9a968885",
   "metadata": {},
   "source": [
    "Let us add a new row. This time we add \"United States\" wiki article:"
   ]
  },
  {
   "cell_type": "code",
   "execution_count": 14,
   "id": "5782e5d6",
   "metadata": {},
   "outputs": [
    {
     "data": {
      "text/plain": [
       "[('states', 167),\n",
       " ('united', 153),\n",
       " ('us', 121),\n",
       " ('american', 90),\n",
       " ('world', 54),\n",
       " ('war', 48),\n",
       " ('worlds', 43),\n",
       " ('americans', 38),\n",
       " ('federal', 35),\n",
       " ('new', 35),\n",
       " ('million', 34),\n",
       " ('country', 33),\n",
       " ('population', 33),\n",
       " ('america', 28),\n",
       " ('government', 24),\n",
       " ('nations', 23),\n",
       " ('national', 23),\n",
       " ('north', 22),\n",
       " ('major', 22),\n",
       " ('state', 21)]"
      ]
     },
     "execution_count": 14,
     "metadata": {},
     "output_type": "execute_result"
    }
   ],
   "source": [
    "# Get the raw text\n",
    "usa = wikipedia_page('United States')\n",
    "\n",
    "# Remove punctuation \n",
    "usa = ''.join(w for w in usa if w not in punctuation)\n",
    "\n",
    "# We transform the text into a list of words by splitting over the space character ' '\n",
    "usa_word_list = usa.lower().split(' ')\n",
    "\n",
    "# use a python list comprehension to remove the stopwords from words_list\n",
    "usa_without_stopwords = [word for word in usa_word_list if word not in stopwords]\n",
    "\n",
    "common_usa = Counter(usa_without_stopwords).most_common(20)\n",
    "common_usa"
   ]
  },
  {
   "cell_type": "markdown",
   "id": "c95e8748",
   "metadata": {},
   "source": [
    "As you see, we followed the same procedure for \"usa\" as we did it for \"france\""
   ]
  },
  {
   "cell_type": "code",
   "execution_count": 15,
   "id": "f2a0fc3a",
   "metadata": {
    "scrolled": true
   },
   "outputs": [
    {
     "data": {
      "text/html": [
       "<div>\n",
       "<style scoped>\n",
       "    .dataframe tbody tr th:only-of-type {\n",
       "        vertical-align: middle;\n",
       "    }\n",
       "\n",
       "    .dataframe tbody tr th {\n",
       "        vertical-align: top;\n",
       "    }\n",
       "\n",
       "    .dataframe thead th {\n",
       "        text-align: right;\n",
       "    }\n",
       "</style>\n",
       "<table border=\"1\" class=\"dataframe\">\n",
       "  <thead>\n",
       "    <tr style=\"text-align: right;\">\n",
       "      <th></th>\n",
       "      <th>title</th>\n",
       "      <th>word_1</th>\n",
       "      <th>word_2</th>\n",
       "      <th>word_3</th>\n",
       "      <th>word_4</th>\n",
       "      <th>word_5</th>\n",
       "      <th>word_6</th>\n",
       "      <th>word_7</th>\n",
       "      <th>word_8</th>\n",
       "      <th>word_9</th>\n",
       "      <th>...</th>\n",
       "      <th>word_11</th>\n",
       "      <th>word_12</th>\n",
       "      <th>word_13</th>\n",
       "      <th>word_14</th>\n",
       "      <th>word_15</th>\n",
       "      <th>word_16</th>\n",
       "      <th>word_17</th>\n",
       "      <th>word_18</th>\n",
       "      <th>word_19</th>\n",
       "      <th>word_20</th>\n",
       "    </tr>\n",
       "  </thead>\n",
       "  <tbody>\n",
       "    <tr>\n",
       "      <th>0</th>\n",
       "      <td>France</td>\n",
       "      <td>(france, 251)</td>\n",
       "      <td>(french, 225)</td>\n",
       "      <td>(world, 70)</td>\n",
       "      <td>(de, 68)</td>\n",
       "      <td>(century, 62)</td>\n",
       "      <td>(million, 52)</td>\n",
       "      <td>(europe, 47)</td>\n",
       "      <td>(national, 47)</td>\n",
       "      <td>(paris, 45)</td>\n",
       "      <td>...</td>\n",
       "      <td>(law, 37)</td>\n",
       "      <td>(war, 35)</td>\n",
       "      <td>(government, 33)</td>\n",
       "      <td>(republic, 28)</td>\n",
       "      <td>(economic, 28)</td>\n",
       "      <td>(country, 27)</td>\n",
       "      <td>(empire, 27)</td>\n",
       "      <td>(major, 26)</td>\n",
       "      <td>(state, 25)</td>\n",
       "      <td>(louis, 25)</td>\n",
       "    </tr>\n",
       "    <tr>\n",
       "      <th>1</th>\n",
       "      <td>United States</td>\n",
       "      <td>(states, 167)</td>\n",
       "      <td>(united, 153)</td>\n",
       "      <td>(us, 121)</td>\n",
       "      <td>(american, 90)</td>\n",
       "      <td>(world, 54)</td>\n",
       "      <td>(war, 48)</td>\n",
       "      <td>(worlds, 43)</td>\n",
       "      <td>(americans, 38)</td>\n",
       "      <td>(federal, 35)</td>\n",
       "      <td>...</td>\n",
       "      <td>(million, 34)</td>\n",
       "      <td>(country, 33)</td>\n",
       "      <td>(population, 33)</td>\n",
       "      <td>(america, 28)</td>\n",
       "      <td>(government, 24)</td>\n",
       "      <td>(nations, 23)</td>\n",
       "      <td>(national, 23)</td>\n",
       "      <td>(north, 22)</td>\n",
       "      <td>(major, 22)</td>\n",
       "      <td>(state, 21)</td>\n",
       "    </tr>\n",
       "  </tbody>\n",
       "</table>\n",
       "<p>2 rows × 21 columns</p>\n",
       "</div>"
      ],
      "text/plain": [
       "           title         word_1         word_2       word_3          word_4  \\\n",
       "0         France  (france, 251)  (french, 225)  (world, 70)        (de, 68)   \n",
       "1  United States  (states, 167)  (united, 153)    (us, 121)  (american, 90)   \n",
       "\n",
       "          word_5         word_6        word_7           word_8         word_9  \\\n",
       "0  (century, 62)  (million, 52)  (europe, 47)   (national, 47)    (paris, 45)   \n",
       "1    (world, 54)      (war, 48)  (worlds, 43)  (americans, 38)  (federal, 35)   \n",
       "\n",
       "   ...        word_11        word_12           word_13         word_14  \\\n",
       "0  ...      (law, 37)      (war, 35)  (government, 33)  (republic, 28)   \n",
       "1  ...  (million, 34)  (country, 33)  (population, 33)   (america, 28)   \n",
       "\n",
       "            word_15        word_16         word_17      word_18      word_19  \\\n",
       "0    (economic, 28)  (country, 27)    (empire, 27)  (major, 26)  (state, 25)   \n",
       "1  (government, 24)  (nations, 23)  (national, 23)  (north, 22)  (major, 22)   \n",
       "\n",
       "       word_20  \n",
       "0  (louis, 25)  \n",
       "1  (state, 21)  \n",
       "\n",
       "[2 rows x 21 columns]"
      ]
     },
     "execution_count": 15,
     "metadata": {},
     "output_type": "execute_result"
    }
   ],
   "source": [
    "add_new(\"United States\", common_usa)"
   ]
  },
  {
   "cell_type": "code",
   "execution_count": 17,
   "id": "6e064f7c",
   "metadata": {},
   "outputs": [],
   "source": [
    "df.to_csv('data/result.csv')"
   ]
  },
  {
   "cell_type": "markdown",
   "id": "2fd3b54c",
   "metadata": {},
   "source": [
    "# 2. Data Engineering tools\n",
    "\n",
    "Programming Languages\n",
    "- Python\n",
    "- C++\n",
    "- C#\n",
    "\n",
    "- SQL\n",
    "\n",
    "- Bash, Linux commands\n",
    "- and more...\n",
    "\n",
    "Platforms\n",
    "- Databricks\n",
    "- GCP Dataflow\n",
    "\n",
    "there are lots of them."
   ]
  },
  {
   "cell_type": "markdown",
   "id": "9b50f11c",
   "metadata": {},
   "source": [
    "# 3. Cloud\n",
    "\n",
    "**Cloud computing**\n",
    "\t- on demand, self-service\n",
    "\t- on internet\n",
    "\t- no worries for physical location\n",
    "\t- elastic\n",
    "\t- pay only what you use\n",
    "\n",
    "**3 waves on the history of cloud computing**\n",
    "\t- colocation\n",
    "\t- virtualisation\n",
    "\t- container-based architecture\n",
    "\n",
    "**IaaS (Infrastructure as a Service) & PaaS (Platform as a Service)**\n",
    "\n",
    "In the IaaS model, customers pay for the resources they allocate ahead of time; \n",
    "In the PaaS model, customers pay for the resources they actually use.\n",
    "\n",
    "```ad-warning\n",
    "IaaS provides raw compute, storage, and network resources that are organised similarly to physical data centers\n",
    "\n",
    "PaaS binds application code to libraries that give access to the infrastructure an application needs\n",
    "```\n"
   ]
  },
  {
   "cell_type": "markdown",
   "id": "ab7ced22",
   "metadata": {},
   "source": [
    "IBM\n",
    "GOOGLE CLOUD\n",
    "AZURE\n",
    "AMAZON WEB SERVICE\n",
    "\n",
    "Docker ve Kubernetes"
   ]
  },
  {
   "cell_type": "markdown",
   "id": "193e301b",
   "metadata": {},
   "source": [
    "## Homework\n",
    "\n",
    "Write a python application that takes one positional argument ``article``. \n",
    "The script must \n",
    "- extract the text file from the wikipedia\n",
    "- transform the text as we did above\n",
    "- load the article using add_new function above\n",
    "\n",
    "When you run the script, it must load the new article to the file results.csv"
   ]
  },
  {
   "cell_type": "markdown",
   "id": "79a65272",
   "metadata": {},
   "source": [
    "### Step 1.\n",
    "\n",
    "Complete the following"
   ]
  },
  {
   "cell_type": "markdown",
   "id": "a71dbcbe",
   "metadata": {},
   "source": [
    "```python\n",
    "import sys\n",
    "\n",
    "def wiki_function (article):\n",
    "    # write your code here \n",
    "\n",
    "\n",
    "if __name__ == \"__main__\":\n",
    "    article = str(sys.argv[1])\n",
    "    wiki_function(article)\n",
    "```"
   ]
  },
  {
   "cell_type": "markdown",
   "id": "4a1f1f6d",
   "metadata": {},
   "source": [
    "### Step 2. \n",
    "\n",
    "Create a file ``app.py`` and put the code in the previous cell into this file."
   ]
  },
  {
   "cell_type": "markdown",
   "id": "096368f7",
   "metadata": {},
   "source": [
    "### Step 3. How to use the script ?\n",
    "\n",
    "open terminal\n",
    "and put \n",
    "\n",
    "```shell\n",
    "python app.py <\"the_title\">\n",
    "```\n",
    "\n",
    "For instance, if you put \n",
    "\n",
    "```shell\n",
    "python app.py \"sun\"\n",
    "```\n",
    "\n",
    "it will load the data into result.csv"
   ]
  }
 ],
 "metadata": {
  "kernelspec": {
   "display_name": "Python 3 (ipykernel)",
   "language": "python",
   "name": "python3"
  },
  "language_info": {
   "codemirror_mode": {
    "name": "ipython",
    "version": 3
   },
   "file_extension": ".py",
   "mimetype": "text/x-python",
   "name": "python",
   "nbconvert_exporter": "python",
   "pygments_lexer": "ipython3",
   "version": "3.9.12"
  }
 },
 "nbformat": 4,
 "nbformat_minor": 5
}
